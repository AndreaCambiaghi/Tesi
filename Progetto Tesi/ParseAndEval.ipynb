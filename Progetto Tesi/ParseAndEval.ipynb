{
 "cells": [
  {
   "cell_type": "code",
   "execution_count": 75,
   "metadata": {},
   "outputs": [],
   "source": [
    "import ast \n",
    "import importlib\n",
    "import re\n",
    "\n",
    "import pandas as pd"
   ]
  },
  {
   "attachments": {},
   "cell_type": "markdown",
   "metadata": {},
   "source": [
    "Partiamo caricando i tuoi dati d'esempio"
   ]
  },
  {
   "cell_type": "code",
   "execution_count": 45,
   "metadata": {},
   "outputs": [
    {
     "data": {
      "text/html": [
       "<div>\n",
       "<style scoped>\n",
       "    .dataframe tbody tr th:only-of-type {\n",
       "        vertical-align: middle;\n",
       "    }\n",
       "\n",
       "    .dataframe tbody tr th {\n",
       "        vertical-align: top;\n",
       "    }\n",
       "\n",
       "    .dataframe thead th {\n",
       "        text-align: right;\n",
       "    }\n",
       "</style>\n",
       "<table border=\"1\" class=\"dataframe\">\n",
       "  <thead>\n",
       "    <tr style=\"text-align: right;\">\n",
       "      <th></th>\n",
       "      <th>Nome</th>\n",
       "      <th>Cognome</th>\n",
       "      <th>Età</th>\n",
       "      <th>Città</th>\n",
       "      <th>Professione</th>\n",
       "      <th>Sesso</th>\n",
       "      <th>Salario</th>\n",
       "    </tr>\n",
       "  </thead>\n",
       "  <tbody>\n",
       "    <tr>\n",
       "      <th>0</th>\n",
       "      <td>Mario</td>\n",
       "      <td>Rossi</td>\n",
       "      <td>35</td>\n",
       "      <td>Roma</td>\n",
       "      <td>Ingegnere</td>\n",
       "      <td>M</td>\n",
       "      <td>50000</td>\n",
       "    </tr>\n",
       "    <tr>\n",
       "      <th>1</th>\n",
       "      <td>Laura</td>\n",
       "      <td>Bianchi</td>\n",
       "      <td>28</td>\n",
       "      <td>Milano</td>\n",
       "      <td>Avvocato</td>\n",
       "      <td>F</td>\n",
       "      <td>60000</td>\n",
       "    </tr>\n",
       "    <tr>\n",
       "      <th>2</th>\n",
       "      <td>Giovanni</td>\n",
       "      <td>Verdi</td>\n",
       "      <td>42</td>\n",
       "      <td>Napoli</td>\n",
       "      <td>Medico</td>\n",
       "      <td>M</td>\n",
       "      <td>80000</td>\n",
       "    </tr>\n",
       "    <tr>\n",
       "      <th>3</th>\n",
       "      <td>Francesca</td>\n",
       "      <td>Russo</td>\n",
       "      <td>31</td>\n",
       "      <td>Torino</td>\n",
       "      <td>Insegnante</td>\n",
       "      <td>F</td>\n",
       "      <td>45000</td>\n",
       "    </tr>\n",
       "    <tr>\n",
       "      <th>4</th>\n",
       "      <td>Paolo</td>\n",
       "      <td>Conti</td>\n",
       "      <td>40</td>\n",
       "      <td>Roma</td>\n",
       "      <td>Imprenditore</td>\n",
       "      <td>M</td>\n",
       "      <td>100000</td>\n",
       "    </tr>\n",
       "    <tr>\n",
       "      <th>5</th>\n",
       "      <td>Giulia</td>\n",
       "      <td>Ferrari</td>\n",
       "      <td>27</td>\n",
       "      <td>Milano</td>\n",
       "      <td>Architetto</td>\n",
       "      <td>F</td>\n",
       "      <td>55000</td>\n",
       "    </tr>\n",
       "    <tr>\n",
       "      <th>6</th>\n",
       "      <td>Andrea</td>\n",
       "      <td>Bianchi</td>\n",
       "      <td>33</td>\n",
       "      <td>Napoli</td>\n",
       "      <td>Ingegnere</td>\n",
       "      <td>M</td>\n",
       "      <td>70000</td>\n",
       "    </tr>\n",
       "    <tr>\n",
       "      <th>7</th>\n",
       "      <td>Martina</td>\n",
       "      <td>Rossi</td>\n",
       "      <td>29</td>\n",
       "      <td>Torino</td>\n",
       "      <td>Avvocato</td>\n",
       "      <td>F</td>\n",
       "      <td>60000</td>\n",
       "    </tr>\n",
       "    <tr>\n",
       "      <th>8</th>\n",
       "      <td>Luca</td>\n",
       "      <td>Verdi</td>\n",
       "      <td>39</td>\n",
       "      <td>Roma</td>\n",
       "      <td>Medico</td>\n",
       "      <td>M</td>\n",
       "      <td>85000</td>\n",
       "    </tr>\n",
       "  </tbody>\n",
       "</table>\n",
       "</div>"
      ],
      "text/plain": [
       "        Nome  Cognome  Età   Città   Professione Sesso  Salario\n",
       "0      Mario    Rossi   35    Roma     Ingegnere     M    50000\n",
       "1      Laura  Bianchi   28  Milano      Avvocato     F    60000\n",
       "2   Giovanni    Verdi   42  Napoli        Medico     M    80000\n",
       "3  Francesca    Russo   31  Torino    Insegnante     F    45000\n",
       "4      Paolo    Conti   40    Roma  Imprenditore     M   100000\n",
       "5     Giulia  Ferrari   27  Milano    Architetto     F    55000\n",
       "6     Andrea  Bianchi   33  Napoli     Ingegnere     M    70000\n",
       "7    Martina    Rossi   29  Torino      Avvocato     F    60000\n",
       "8       Luca    Verdi   39    Roma        Medico     M    85000"
      ]
     },
     "execution_count": 45,
     "metadata": {},
     "output_type": "execute_result"
    }
   ],
   "source": [
    "df = pd.read_csv('test.csv')\n",
    "df"
   ]
  },
  {
   "attachments": {},
   "cell_type": "markdown",
   "metadata": {},
   "source": [
    "Per prima cosa, ti suggerirei di usare [pandas.Dataframe.eval](https://pandas.pydata.org/docs/reference/api/pandas.DataFrame.eval.html#pandas.DataFrame.eval) e non [pandas.eval](https://pandas.pydata.org/docs/reference/api/pandas.eval.html#pandas.eval) perché si occupa già da solo di \"popolare\" il namespace con le variabili derivanti dalle colonne del dataframe."
   ]
  },
  {
   "cell_type": "code",
   "execution_count": 46,
   "metadata": {},
   "outputs": [
    {
     "data": {
      "text/plain": [
       "0    False\n",
       "1    False\n",
       "2     True\n",
       "3    False\n",
       "4    False\n",
       "5    False\n",
       "6    False\n",
       "7    False\n",
       "8    False\n",
       "Name: Età, dtype: bool"
      ]
     },
     "execution_count": 46,
     "metadata": {},
     "output_type": "execute_result"
    }
   ],
   "source": [
    "df.eval('Età > 40')"
   ]
  },
  {
   "attachments": {},
   "cell_type": "markdown",
   "metadata": {},
   "source": [
    "A questo punto l'unica cosa che ti serve è \"iniettare\" le funzioni definite dall'utente. Per prima cosa, vediamo come estrarre in modo programmatico le funzioni da un modulo dato il suo nome (in modo tale che l'utente possa specificare il nome del modulo da UI)."
   ]
  },
  {
   "cell_type": "code",
   "execution_count": 47,
   "metadata": {},
   "outputs": [],
   "source": [
    "module_name = 'functions_file'\n",
    "module = importlib.import_module(module_name)"
   ]
  },
  {
   "attachments": {},
   "cell_type": "markdown",
   "metadata": {},
   "source": [
    "Se conosci il nome della funzione, è facile trovarla"
   ]
  },
  {
   "cell_type": "code",
   "execution_count": 48,
   "metadata": {},
   "outputs": [],
   "source": [
    "function_name = 'raddoppia'\n",
    "f = getattr(module, function_name)"
   ]
  },
  {
   "cell_type": "code",
   "execution_count": 49,
   "metadata": {},
   "outputs": [
    {
     "data": {
      "text/plain": [
       "8"
      ]
     },
     "execution_count": 49,
     "metadata": {},
     "output_type": "execute_result"
    }
   ],
   "source": [
    "f(4)"
   ]
  },
  {
   "attachments": {},
   "cell_type": "markdown",
   "metadata": {},
   "source": [
    "Ora il punto potrebbe essere come determinare i nomi di funzione a partire dall'espressione introdotta dall'utente. \n",
    "\n",
    "Eviterei tentativi basati sulle espressioni regolari, dato che il linguaggio delle espressioni non è regolare! \n",
    "\n",
    "Per convincertene, guarda questo esempio che \"complica\" il tuo avvolgendo in un `raddoppia` entrambe i mebbri della tua prima disequazione:"
   ]
  },
  {
   "cell_type": "code",
   "execution_count": 74,
   "metadata": {},
   "outputs": [],
   "source": [
    "espressione = \"(raddoppia(raddoppia(Età)) > raddoppia(60)) & ((aggiungi10(Salario) > 5000) | (Sesso == 'F'))\""
   ]
  },
  {
   "attachments": {},
   "cell_type": "markdown",
   "metadata": {},
   "source": [
    "Questo introducen una chiamata di chiamata, che con la tua espressione regolare\n",
    "non potresti gestire"
   ]
  },
  {
   "cell_type": "code",
   "execution_count": 78,
   "metadata": {},
   "outputs": [],
   "source": [
    "def parse_function_call(condizione):\n",
    "  pattern = r\"(\\w+)\\((\\w+)\\)\"\n",
    "  matches = re.findall(pattern, condizione)\n",
    "\n",
    "  for match in matches:\n",
    "    function_name, column_name = match\n",
    "    return function_name, column_name"
   ]
  },
  {
   "cell_type": "code",
   "execution_count": 80,
   "metadata": {},
   "outputs": [
    {
     "data": {
      "text/plain": [
       "('raddoppia', 'Età')"
      ]
     },
     "execution_count": 80,
     "metadata": {},
     "output_type": "execute_result"
    }
   ],
   "source": [
    "parse_function_call(espressione)"
   ]
  },
  {
   "attachments": {},
   "cell_type": "markdown",
   "metadata": {},
   "source": [
    "\n",
    "Per fortuna puoi usare il parser di Python stesso."
   ]
  },
  {
   "cell_type": "code",
   "execution_count": 81,
   "metadata": {},
   "outputs": [],
   "source": [
    "pt = ast.parse(espressione)"
   ]
  },
  {
   "attachments": {},
   "cell_type": "markdown",
   "metadata": {},
   "source": [
    "Come puoi notare, il *parse tree* è un albero i cui nodi sono istanze di classi che derivano da [ast.AST](https://docs.python.org/3/library/ast.html#ast.AST). In particolare, le invocazioni di funzione sono rappresentate da nodi di tipo [ast.Call](https://docs.python.org/3/library/ast.html#ast.Call)."
   ]
  },
  {
   "cell_type": "code",
   "execution_count": 82,
   "metadata": {},
   "outputs": [
    {
     "data": {
      "text/plain": [
       "\"Module(body=[Expr(value=BinOp(left=Compare(left=Call(func=Name(id='raddoppia', ctx=Load()), args=[Call(func=Name(id='raddoppia', ctx=Load()), args=[Name(id='Età', ctx=Load())], keywords=[])], keywords=[]), ops=[Gt()], comparators=[Call(func=Name(id='raddoppia', ctx=Load()), args=[Constant(value=60)], keywords=[])]), op=BitAnd(), right=BinOp(left=Compare(left=Call(func=Name(id='aggiungi10', ctx=Load()), args=[Name(id='Salario', ctx=Load())], keywords=[]), ops=[Gt()], comparators=[Constant(value=5000)]), op=BitOr(), right=Compare(left=Name(id='Sesso', ctx=Load()), ops=[Eq()], comparators=[Constant(value='F')]))))], type_ignores=[])\""
      ]
     },
     "execution_count": 82,
     "metadata": {},
     "output_type": "execute_result"
    }
   ],
   "source": [
    "ast.dump(pt)"
   ]
  },
  {
   "attachments": {},
   "cell_type": "markdown",
   "metadata": {},
   "source": [
    "Puoi andare a caccia di tali nodi con una visita ricorsiva del parse tree"
   ]
  },
  {
   "cell_type": "code",
   "execution_count": 83,
   "metadata": {},
   "outputs": [],
   "source": [
    "def find_functions(node):\n",
    "  res = set()\n",
    "  for child in ast.iter_child_nodes(node):\n",
    "    if isinstance(child, ast.Call):\n",
    "      res.add(child.func.id)\n",
    "    res |= find_functions(child)\n",
    "  return res"
   ]
  },
  {
   "cell_type": "code",
   "execution_count": 84,
   "metadata": {},
   "outputs": [
    {
     "data": {
      "text/plain": [
       "{'aggiungi10', 'raddoppia'}"
      ]
     },
     "execution_count": 84,
     "metadata": {},
     "output_type": "execute_result"
    }
   ],
   "source": [
    "find_functions(pt)"
   ]
  },
  {
   "attachments": {},
   "cell_type": "markdown",
   "metadata": {},
   "source": [
    "Questo ti basta per preparare un dizionario che associ ad ogni nome di funzione la funzione caricata dal modulo."
   ]
  },
  {
   "cell_type": "code",
   "execution_count": 85,
   "metadata": {},
   "outputs": [],
   "source": [
    "name2func = {name: getattr(module, name) for name in find_functions(pt)}"
   ]
  },
  {
   "cell_type": "code",
   "execution_count": 86,
   "metadata": {},
   "outputs": [
    {
     "data": {
      "text/plain": [
       "{'aggiungi10': <function functions_file.aggiungi10(y)>,\n",
       " 'raddoppia': <function functions_file.raddoppia(x)>}"
      ]
     },
     "execution_count": 86,
     "metadata": {},
     "output_type": "execute_result"
    }
   ],
   "source": [
    "name2func"
   ]
  },
  {
   "attachments": {},
   "cell_type": "markdown",
   "metadata": {},
   "source": [
    "Sei pronto per valutare l'espressione"
   ]
  },
  {
   "cell_type": "code",
   "execution_count": 87,
   "metadata": {},
   "outputs": [
    {
     "data": {
      "text/plain": [
       "0     True\n",
       "1    False\n",
       "2     True\n",
       "3     True\n",
       "4     True\n",
       "5    False\n",
       "6     True\n",
       "7    False\n",
       "8     True\n",
       "dtype: bool"
      ]
     },
     "execution_count": 87,
     "metadata": {},
     "output_type": "execute_result"
    }
   ],
   "source": [
    "df.eval(espressione, resolvers = [name2func], engine = 'python')"
   ]
  }
 ],
 "metadata": {
  "kernelspec": {
   "display_name": ".venv",
   "language": "python",
   "name": "python3"
  },
  "language_info": {
   "codemirror_mode": {
    "name": "ipython",
    "version": 3
   },
   "file_extension": ".py",
   "mimetype": "text/x-python",
   "name": "python",
   "nbconvert_exporter": "python",
   "pygments_lexer": "ipython3",
   "version": "3.10.6"
  },
  "orig_nbformat": 4
 },
 "nbformat": 4,
 "nbformat_minor": 2
}
